{
 "cells": [
  {
   "cell_type": "code",
   "execution_count": 1,
   "id": "e68037a2",
   "metadata": {},
   "outputs": [],
   "source": [
    "import pandas as pd\n",
    "data = pd.read_excel(r\"C:\\Users\\sures\\Downloads\\Downloads_1\\NLP_Files_Uni,bi_tri_4_5_grams\\new_folder\\ALL_CORPORA-TO-EDIT-xlsx_format_new.xlsm\")\n",
    "\n",
    "# we are reading our file which is in the xlsx format as a pandas dataframe"
   ]
  },
  {
   "cell_type": "code",
   "execution_count": 2,
   "id": "4f1ebdd1",
   "metadata": {},
   "outputs": [],
   "source": [
    "data.columns = ['Text']\n",
    "\n",
    "# we are assigning the column name as 'Text'"
   ]
  },
  {
   "cell_type": "code",
   "execution_count": 3,
   "id": "bdcccc0a",
   "metadata": {},
   "outputs": [
    {
     "data": {
      "text/html": [
       "<div>\n",
       "<style scoped>\n",
       "    .dataframe tbody tr th:only-of-type {\n",
       "        vertical-align: middle;\n",
       "    }\n",
       "\n",
       "    .dataframe tbody tr th {\n",
       "        vertical-align: top;\n",
       "    }\n",
       "\n",
       "    .dataframe thead th {\n",
       "        text-align: right;\n",
       "    }\n",
       "</style>\n",
       "<table border=\"1\" class=\"dataframe\">\n",
       "  <thead>\n",
       "    <tr style=\"text-align: right;\">\n",
       "      <th></th>\n",
       "      <th>Text</th>\n",
       "    </tr>\n",
       "  </thead>\n",
       "  <tbody>\n",
       "    <tr>\n",
       "      <th>0</th>\n",
       "      <td>QT_QTC RD_SYM N_NN V_VM_VNF N_NST N_NN PR_PRP ...</td>\n",
       "    </tr>\n",
       "    <tr>\n",
       "      <th>1</th>\n",
       "      <td>N_NN N_NN V_VM_VNF N_NN PR_PRQ V_VM_VNF V_VAUX...</td>\n",
       "    </tr>\n",
       "    <tr>\n",
       "      <th>2</th>\n",
       "      <td>QT_QTC RD_SYM N_NN N_NN RD_PUNC N_NN N_NN RD_P...</td>\n",
       "    </tr>\n",
       "    <tr>\n",
       "      <th>3</th>\n",
       "      <td>QT_QTC RD_SYM N_NN JJ N_NN V_VM_VNF N_NN PR_PR...</td>\n",
       "    </tr>\n",
       "    <tr>\n",
       "      <th>4</th>\n",
       "      <td>DM_DMD N_NN DM_DMD N_NN V_VM_VINF N_NN N_NN PR...</td>\n",
       "    </tr>\n",
       "    <tr>\n",
       "      <th>...</th>\n",
       "      <td>...</td>\n",
       "    </tr>\n",
       "    <tr>\n",
       "      <th>10380</th>\n",
       "      <td>JJ PR_PRP N_NN RD_PUNC</td>\n",
       "    </tr>\n",
       "    <tr>\n",
       "      <th>10381</th>\n",
       "      <td>N_NN N_NN V_VM_VNF N_NN RD_PUNC N_NN N_NN V_VM...</td>\n",
       "    </tr>\n",
       "    <tr>\n",
       "      <th>10382</th>\n",
       "      <td>RB V_VM_VNF N_NN V_VM_VF RD_PUNC</td>\n",
       "    </tr>\n",
       "    <tr>\n",
       "      <th>10383</th>\n",
       "      <td>RD_PUNC</td>\n",
       "    </tr>\n",
       "    <tr>\n",
       "      <th>10384</th>\n",
       "      <td>QT_QTC</td>\n",
       "    </tr>\n",
       "  </tbody>\n",
       "</table>\n",
       "<p>10385 rows × 1 columns</p>\n",
       "</div>"
      ],
      "text/plain": [
       "                                                    Text\n",
       "0      QT_QTC RD_SYM N_NN V_VM_VNF N_NST N_NN PR_PRP ...\n",
       "1      N_NN N_NN V_VM_VNF N_NN PR_PRQ V_VM_VNF V_VAUX...\n",
       "2      QT_QTC RD_SYM N_NN N_NN RD_PUNC N_NN N_NN RD_P...\n",
       "3      QT_QTC RD_SYM N_NN JJ N_NN V_VM_VNF N_NN PR_PR...\n",
       "4      DM_DMD N_NN DM_DMD N_NN V_VM_VINF N_NN N_NN PR...\n",
       "...                                                  ...\n",
       "10380                             JJ PR_PRP N_NN RD_PUNC\n",
       "10381  N_NN N_NN V_VM_VNF N_NN RD_PUNC N_NN N_NN V_VM...\n",
       "10382                   RB V_VM_VNF N_NN V_VM_VF RD_PUNC\n",
       "10383                                            RD_PUNC\n",
       "10384                                             QT_QTC\n",
       "\n",
       "[10385 rows x 1 columns]"
      ]
     },
     "execution_count": 3,
     "metadata": {},
     "output_type": "execute_result"
    }
   ],
   "source": [
    "data[:]\n",
    "\n",
    "# we are visualizing the dataframe from first to last terms"
   ]
  },
  {
   "cell_type": "code",
   "execution_count": 4,
   "id": "7330e97b",
   "metadata": {},
   "outputs": [],
   "source": [
    "list_strings = data['Text'].values.tolist()\n",
    "\n",
    "# we are converting our text column into a list with each values as a string\n",
    "# Each sentence in our corpus will be converted into a string of tags and all such string of tags will be stored in a list\n",
    "# look at the format of list_strings below"
   ]
  },
  {
   "cell_type": "code",
   "execution_count": 5,
   "id": "e114397d",
   "metadata": {},
   "outputs": [
    {
     "data": {
      "text/plain": [
       "['QT_QTC RD_SYM N_NN V_VM_VNF N_NST N_NN PR_PRP V_VM_VINF N_NN N_NN V_VM_VNF N_NN N_NN N_NN RB V_VM_VF RD_PUNC',\n",
       " 'N_NN N_NN V_VM_VNF N_NN PR_PRQ V_VM_VNF V_VAUX PR_PRP N_NN QT_QTF N_NN V_VM_VFRD_PUNC',\n",
       " 'QT_QTC RD_SYM N_NN N_NN RD_PUNC N_NN N_NN RD_PUNC N_NN V_VM_VNF N_NN N_NN PR_PRP N_NN V_VM_VF RD_PUNC',\n",
       " 'QT_QTC RD_SYM N_NN JJ N_NN V_VM_VNF N_NN PR_PRQ N_NN N_NN N_NN V_VM_VNF PR_PRP N_NN QT_QTF V_VM_VF RD_PUNC',\n",
       " 'DM_DMD N_NN DM_DMD N_NN V_VM_VINF N_NN N_NN PR_PRP V_VM_VINF N_NN N_NN JJ N_NN N_NN V_VM_VINF JJ N_NN N_NN N_NN JJ N_NN N_NN V_VM_VNF V_VAUX RD_PUNC',\n",
       " 'QT_QTC RD_SYM N_NST V_VM_VINF N_NN V_VM_VNF N_NNP N_NN N_NN N_NN N_NN N_NN V_VM_VF RD_PUNC',\n",
       " 'N_NN N_NN N_NN QT_QTF N_NN CC_CCD N_NN V_VM_VF RD_PUNC',\n",
       " 'PR_PRP N_NN V_VM_VINF N_NN N_NN RP_RPD N_NN V_VM_VF RD_PUNC',\n",
       " 'N_NN N_NN V_VM_VNF N_NN N_NN N_NN QT_QTF N_NN V_VM_VINF N_NN V_VM_VNF V_VM_VF RD_PUNC',\n",
       " 'N_NN N_NN V_VM_VNG JJ N_NN N_NN DM_DMD N_NN V_VM_VF RD_PUNC']"
      ]
     },
     "execution_count": 5,
     "metadata": {},
     "output_type": "execute_result"
    }
   ],
   "source": [
    "list_strings[:10]"
   ]
  },
  {
   "cell_type": "code",
   "execution_count": 6,
   "id": "7af6ad8f",
   "metadata": {},
   "outputs": [
    {
     "name": "stdout",
     "output_type": "stream",
     "text": [
      "[('QT_QTC', 'RD_SYM', 'N_NN', 'V_VM_VNF', 'N_NST'), ('RD_SYM', 'N_NN', 'V_VM_VNF', 'N_NST', 'N_NN'), ('N_NN', 'V_VM_VNF', 'N_NST', 'N_NN', 'PR_PRP'), ('V_VM_VNF', 'N_NST', 'N_NN', 'PR_PRP', 'V_VM_VINF'), ('N_NST', 'N_NN', 'PR_PRP', 'V_VM_VINF', 'N_NN'), ('N_NN', 'PR_PRP', 'V_VM_VINF', 'N_NN', 'N_NN'), ('PR_PRP', 'V_VM_VINF', 'N_NN', 'N_NN', 'V_VM_VNF'), ('V_VM_VINF', 'N_NN', 'N_NN', 'V_VM_VNF', 'N_NN'), ('N_NN', 'N_NN', 'V_VM_VNF', 'N_NN', 'N_NN'), ('N_NN', 'V_VM_VNF', 'N_NN', 'N_NN', 'N_NN')]\n"
     ]
    }
   ],
   "source": [
    "five_grams = [b for l in list_strings for b in zip(str(l).split(\" \")[:-1], str(l).split(\" \")[1:], str(l).split(\" \")[2:], \n",
    "                                                str(l).split(\" \")[3:], str(l).split(\" \")[4:])]\n",
    "\n",
    "# we are finding out fivegrams here\n",
    "# first, we are taking each term from the list_strings as variable named 'l'\n",
    "# second, we convert l as string and split it with spaces. now, we get all tags.\n",
    "# take first tag as variable 'b' and append it to the list 'bigrams' sequentially one by one until the last tag is exhausted.\n",
    "# next, we take the same string format of 'l', split it with spaces and apart from the already existing word, take the next word.\n",
    "# next, we repeat the same task five times to get a zipped file of five_grams\n",
    "\n",
    "print(five_grams[:10])"
   ]
  },
  {
   "cell_type": "code",
   "execution_count": 7,
   "id": "5b79f224",
   "metadata": {},
   "outputs": [
    {
     "name": "stdout",
     "output_type": "stream",
     "text": [
      "76675\n",
      "Number of Unigrams present in the whole corpus -  76675\n"
     ]
    }
   ],
   "source": [
    "print(len(five_grams))\n",
    "\n",
    "# we get the number of fivegrams present in the corpus\n",
    "\n",
    "print('Number of Unigrams present in the whole corpus - ', len(five_grams))"
   ]
  },
  {
   "cell_type": "code",
   "execution_count": 8,
   "id": "b86038d9",
   "metadata": {},
   "outputs": [],
   "source": [
    "from collections import Counter\n",
    "\n",
    "count = dict(Counter(five_grams))\n",
    "#print(count)\n",
    "\n",
    "# we get the frequency of occurrences of each five grams"
   ]
  },
  {
   "cell_type": "code",
   "execution_count": 9,
   "id": "0ff6a2f6",
   "metadata": {},
   "outputs": [
    {
     "name": "stdout",
     "output_type": "stream",
     "text": [
      "25738\n",
      "Number of tags in our corpus 25738\n"
     ]
    }
   ],
   "source": [
    "print(len(count))\n",
    "\n",
    "# This gives us how many unique five grams we have in our corpus\n",
    "\n",
    "print('Number of tags in our corpus', len(count))"
   ]
  },
  {
   "cell_type": "code",
   "execution_count": 10,
   "id": "8dacfabe",
   "metadata": {},
   "outputs": [],
   "source": [
    "sorted_count = {k: v for k, v in sorted(count.items(), key=lambda item: item[1], reverse=True)}\n",
    "\n",
    "#print(sorted_count)\n",
    "\n",
    "# we have sorted our tags based in the decresing order of frequency.\n",
    "# we have 'N_NN' tag occurring highest number of times\n"
   ]
  },
  {
   "cell_type": "code",
   "execution_count": 11,
   "id": "27e00486",
   "metadata": {},
   "outputs": [
    {
     "data": {
      "text/html": [
       "<div>\n",
       "<style scoped>\n",
       "    .dataframe tbody tr th:only-of-type {\n",
       "        vertical-align: middle;\n",
       "    }\n",
       "\n",
       "    .dataframe tbody tr th {\n",
       "        vertical-align: top;\n",
       "    }\n",
       "\n",
       "    .dataframe thead th {\n",
       "        text-align: right;\n",
       "    }\n",
       "</style>\n",
       "<table border=\"1\" class=\"dataframe\">\n",
       "  <thead>\n",
       "    <tr style=\"text-align: right;\">\n",
       "      <th></th>\n",
       "      <th>Five_grams</th>\n",
       "      <th>Frequency</th>\n",
       "    </tr>\n",
       "  </thead>\n",
       "  <tbody>\n",
       "    <tr>\n",
       "      <th>0</th>\n",
       "      <td>(N_NN, N_NN, N_NN, N_NN, N_NN)</td>\n",
       "      <td>1066</td>\n",
       "    </tr>\n",
       "    <tr>\n",
       "      <th>1</th>\n",
       "      <td>(RD_PUNC, RD_PUNC, RD_PUNC, RD_PUNC, RD_PUNC)</td>\n",
       "      <td>837</td>\n",
       "    </tr>\n",
       "    <tr>\n",
       "      <th>2</th>\n",
       "      <td>(N_NN, RD_PUNC, N_NN, RD_PUNC, N_NN)</td>\n",
       "      <td>660</td>\n",
       "    </tr>\n",
       "    <tr>\n",
       "      <th>3</th>\n",
       "      <td>(N_NN, N_NN, N_NN, V_VM_VF, RD_PUNC)</td>\n",
       "      <td>653</td>\n",
       "    </tr>\n",
       "    <tr>\n",
       "      <th>4</th>\n",
       "      <td>(RD_PUNC, N_NN, RD_PUNC, N_NN, RD_PUNC)</td>\n",
       "      <td>475</td>\n",
       "    </tr>\n",
       "    <tr>\n",
       "      <th>...</th>\n",
       "      <td>...</td>\n",
       "      <td>...</td>\n",
       "    </tr>\n",
       "    <tr>\n",
       "      <th>25733</th>\n",
       "      <td>(DM_DMQ, N_NN, QT_QTF, N_NN, V_VM_VNF)</td>\n",
       "      <td>1</td>\n",
       "    </tr>\n",
       "    <tr>\n",
       "      <th>25734</th>\n",
       "      <td>(QT_QTF, N_NN, V_VM_VNF, RD_PUNC, CC_CCS_UT)</td>\n",
       "      <td>1</td>\n",
       "    </tr>\n",
       "    <tr>\n",
       "      <th>25735</th>\n",
       "      <td>(V_VM_VNF, PR_PRP, RP_INTF, V_VM_VNF, RP_RPD)</td>\n",
       "      <td>1</td>\n",
       "    </tr>\n",
       "    <tr>\n",
       "      <th>25736</th>\n",
       "      <td>(PR_PRP, RP_INTF, V_VM_VNF, RP_RPD, RD_PUNC)</td>\n",
       "      <td>1</td>\n",
       "    </tr>\n",
       "    <tr>\n",
       "      <th>25737</th>\n",
       "      <td>(RD_PUNC, N_NN, N_NN, V_VM_VNF, CC_CCD)</td>\n",
       "      <td>1</td>\n",
       "    </tr>\n",
       "  </tbody>\n",
       "</table>\n",
       "<p>25738 rows × 2 columns</p>\n",
       "</div>"
      ],
      "text/plain": [
       "                                          Five_grams  Frequency\n",
       "0                     (N_NN, N_NN, N_NN, N_NN, N_NN)       1066\n",
       "1      (RD_PUNC, RD_PUNC, RD_PUNC, RD_PUNC, RD_PUNC)        837\n",
       "2               (N_NN, RD_PUNC, N_NN, RD_PUNC, N_NN)        660\n",
       "3               (N_NN, N_NN, N_NN, V_VM_VF, RD_PUNC)        653\n",
       "4            (RD_PUNC, N_NN, RD_PUNC, N_NN, RD_PUNC)        475\n",
       "...                                              ...        ...\n",
       "25733         (DM_DMQ, N_NN, QT_QTF, N_NN, V_VM_VNF)          1\n",
       "25734   (QT_QTF, N_NN, V_VM_VNF, RD_PUNC, CC_CCS_UT)          1\n",
       "25735  (V_VM_VNF, PR_PRP, RP_INTF, V_VM_VNF, RP_RPD)          1\n",
       "25736   (PR_PRP, RP_INTF, V_VM_VNF, RP_RPD, RD_PUNC)          1\n",
       "25737        (RD_PUNC, N_NN, N_NN, V_VM_VNF, CC_CCD)          1\n",
       "\n",
       "[25738 rows x 2 columns]"
      ]
     },
     "execution_count": 11,
     "metadata": {},
     "output_type": "execute_result"
    }
   ],
   "source": [
    "f_data = pd.DataFrame([sorted_count])\n",
    "# we are converting our sorted frequencies as a pandas dataframe for easy visualization\n",
    "\n",
    "f_data = f_data.T\n",
    "# we are transposing our data matrix for column view\n",
    "\n",
    "f_data = f_data.reset_index()\n",
    "# we are resetting our index to default values\n",
    "\n",
    "f_data.columns = ['Five_grams','Frequency']\n",
    "# we are addding column names for easy understanding of the columns in our five gram frequency dataframe\n",
    "\n",
    "f_data[:]\n",
    "# we visualize the whole data"
   ]
  },
  {
   "cell_type": "code",
   "execution_count": 12,
   "id": "a47fa21c",
   "metadata": {},
   "outputs": [],
   "source": [
    "f_data.to_csv(r'C:\\Users\\sures\\Downloads\\Downloads_1\\NLP_Files_Uni,bi_tri_4_5_grams\\Final_Files\\Five_grams\\five_gram_freq.csv')\n",
    "\n",
    "# we are saving our new five_gram frequency dataset into our drive after converting it into csv file."
   ]
  },
  {
   "cell_type": "code",
   "execution_count": null,
   "id": "8f52bd47",
   "metadata": {},
   "outputs": [],
   "source": []
  }
 ],
 "metadata": {
  "kernelspec": {
   "display_name": "Python 3 (ipykernel)",
   "language": "python",
   "name": "python3"
  },
  "language_info": {
   "codemirror_mode": {
    "name": "ipython",
    "version": 3
   },
   "file_extension": ".py",
   "mimetype": "text/x-python",
   "name": "python",
   "nbconvert_exporter": "python",
   "pygments_lexer": "ipython3",
   "version": "3.9.12"
  }
 },
 "nbformat": 4,
 "nbformat_minor": 5
}
