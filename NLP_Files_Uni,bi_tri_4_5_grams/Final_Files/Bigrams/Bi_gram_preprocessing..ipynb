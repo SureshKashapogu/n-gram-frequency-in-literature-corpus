{
 "cells": [
  {
   "cell_type": "code",
   "execution_count": 1,
   "id": "e68037a2",
   "metadata": {},
   "outputs": [],
   "source": [
    "import pandas as pd\n",
    "data = pd.read_excel(r\"C:\\Users\\sures\\Downloads\\Downloads_1\\NLP_Files_Uni,bi_tri_4_5_grams\\new_folder\\ALL_CORPORA-TO-EDIT-xlsx_format_new.xlsm\")\n",
    "\n",
    "# we are reading our file which is in the xlsx format as a pandas dataframe"
   ]
  },
  {
   "cell_type": "code",
   "execution_count": 2,
   "id": "4f1ebdd1",
   "metadata": {},
   "outputs": [],
   "source": [
    "data.columns = ['Text']\n",
    "\n",
    "# we are assigning the column name as 'Text'"
   ]
  },
  {
   "cell_type": "code",
   "execution_count": 3,
   "id": "bdcccc0a",
   "metadata": {},
   "outputs": [
    {
     "data": {
      "text/html": [
       "<div>\n",
       "<style scoped>\n",
       "    .dataframe tbody tr th:only-of-type {\n",
       "        vertical-align: middle;\n",
       "    }\n",
       "\n",
       "    .dataframe tbody tr th {\n",
       "        vertical-align: top;\n",
       "    }\n",
       "\n",
       "    .dataframe thead th {\n",
       "        text-align: right;\n",
       "    }\n",
       "</style>\n",
       "<table border=\"1\" class=\"dataframe\">\n",
       "  <thead>\n",
       "    <tr style=\"text-align: right;\">\n",
       "      <th></th>\n",
       "      <th>Text</th>\n",
       "    </tr>\n",
       "  </thead>\n",
       "  <tbody>\n",
       "    <tr>\n",
       "      <th>0</th>\n",
       "      <td>QT_QTC RD_SYM N_NN V_VM_VNF N_NST N_NN PR_PRP ...</td>\n",
       "    </tr>\n",
       "    <tr>\n",
       "      <th>1</th>\n",
       "      <td>N_NN N_NN V_VM_VNF N_NN PR_PRQ V_VM_VNF V_VAUX...</td>\n",
       "    </tr>\n",
       "    <tr>\n",
       "      <th>2</th>\n",
       "      <td>QT_QTC RD_SYM N_NN N_NN RD_PUNC N_NN N_NN RD_P...</td>\n",
       "    </tr>\n",
       "    <tr>\n",
       "      <th>3</th>\n",
       "      <td>QT_QTC RD_SYM N_NN JJ N_NN V_VM_VNF N_NN PR_PR...</td>\n",
       "    </tr>\n",
       "    <tr>\n",
       "      <th>4</th>\n",
       "      <td>DM_DMD N_NN DM_DMD N_NN V_VM_VINF N_NN N_NN PR...</td>\n",
       "    </tr>\n",
       "    <tr>\n",
       "      <th>...</th>\n",
       "      <td>...</td>\n",
       "    </tr>\n",
       "    <tr>\n",
       "      <th>10380</th>\n",
       "      <td>JJ PR_PRP N_NN RD_PUNC</td>\n",
       "    </tr>\n",
       "    <tr>\n",
       "      <th>10381</th>\n",
       "      <td>N_NN N_NN V_VM_VNF N_NN RD_PUNC N_NN N_NN V_VM...</td>\n",
       "    </tr>\n",
       "    <tr>\n",
       "      <th>10382</th>\n",
       "      <td>RB V_VM_VNF N_NN V_VM_VF RD_PUNC</td>\n",
       "    </tr>\n",
       "    <tr>\n",
       "      <th>10383</th>\n",
       "      <td>RD_PUNC</td>\n",
       "    </tr>\n",
       "    <tr>\n",
       "      <th>10384</th>\n",
       "      <td>QT_QTC</td>\n",
       "    </tr>\n",
       "  </tbody>\n",
       "</table>\n",
       "<p>10385 rows × 1 columns</p>\n",
       "</div>"
      ],
      "text/plain": [
       "                                                    Text\n",
       "0      QT_QTC RD_SYM N_NN V_VM_VNF N_NST N_NN PR_PRP ...\n",
       "1      N_NN N_NN V_VM_VNF N_NN PR_PRQ V_VM_VNF V_VAUX...\n",
       "2      QT_QTC RD_SYM N_NN N_NN RD_PUNC N_NN N_NN RD_P...\n",
       "3      QT_QTC RD_SYM N_NN JJ N_NN V_VM_VNF N_NN PR_PR...\n",
       "4      DM_DMD N_NN DM_DMD N_NN V_VM_VINF N_NN N_NN PR...\n",
       "...                                                  ...\n",
       "10380                             JJ PR_PRP N_NN RD_PUNC\n",
       "10381  N_NN N_NN V_VM_VNF N_NN RD_PUNC N_NN N_NN V_VM...\n",
       "10382                   RB V_VM_VNF N_NN V_VM_VF RD_PUNC\n",
       "10383                                            RD_PUNC\n",
       "10384                                             QT_QTC\n",
       "\n",
       "[10385 rows x 1 columns]"
      ]
     },
     "execution_count": 3,
     "metadata": {},
     "output_type": "execute_result"
    }
   ],
   "source": [
    "data[:]\n",
    "\n",
    "# we are visualizing the dataframe from first to last terms"
   ]
  },
  {
   "cell_type": "code",
   "execution_count": 4,
   "id": "7330e97b",
   "metadata": {},
   "outputs": [],
   "source": [
    "list_strings = data['Text'].values.tolist()\n",
    "\n",
    "# we are converting our text column into a list with each values as a string\n",
    "# Each sentence in our corpus will be converted into a string of tags and all such string of tags will be stored in a list\n",
    "# look at the format of list_strings below"
   ]
  },
  {
   "cell_type": "code",
   "execution_count": 5,
   "id": "e114397d",
   "metadata": {},
   "outputs": [
    {
     "data": {
      "text/plain": [
       "['QT_QTC RD_SYM N_NN V_VM_VNF N_NST N_NN PR_PRP V_VM_VINF N_NN N_NN V_VM_VNF N_NN N_NN N_NN RB V_VM_VF RD_PUNC',\n",
       " 'N_NN N_NN V_VM_VNF N_NN PR_PRQ V_VM_VNF V_VAUX PR_PRP N_NN QT_QTF N_NN V_VM_VFRD_PUNC',\n",
       " 'QT_QTC RD_SYM N_NN N_NN RD_PUNC N_NN N_NN RD_PUNC N_NN V_VM_VNF N_NN N_NN PR_PRP N_NN V_VM_VF RD_PUNC',\n",
       " 'QT_QTC RD_SYM N_NN JJ N_NN V_VM_VNF N_NN PR_PRQ N_NN N_NN N_NN V_VM_VNF PR_PRP N_NN QT_QTF V_VM_VF RD_PUNC',\n",
       " 'DM_DMD N_NN DM_DMD N_NN V_VM_VINF N_NN N_NN PR_PRP V_VM_VINF N_NN N_NN JJ N_NN N_NN V_VM_VINF JJ N_NN N_NN N_NN JJ N_NN N_NN V_VM_VNF V_VAUX RD_PUNC',\n",
       " 'QT_QTC RD_SYM N_NST V_VM_VINF N_NN V_VM_VNF N_NNP N_NN N_NN N_NN N_NN N_NN V_VM_VF RD_PUNC',\n",
       " 'N_NN N_NN N_NN QT_QTF N_NN CC_CCD N_NN V_VM_VF RD_PUNC',\n",
       " 'PR_PRP N_NN V_VM_VINF N_NN N_NN RP_RPD N_NN V_VM_VF RD_PUNC',\n",
       " 'N_NN N_NN V_VM_VNF N_NN N_NN N_NN QT_QTF N_NN V_VM_VINF N_NN V_VM_VNF V_VM_VF RD_PUNC',\n",
       " 'N_NN N_NN V_VM_VNG JJ N_NN N_NN DM_DMD N_NN V_VM_VF RD_PUNC']"
      ]
     },
     "execution_count": 5,
     "metadata": {},
     "output_type": "execute_result"
    }
   ],
   "source": [
    "list_strings[:10]"
   ]
  },
  {
   "cell_type": "code",
   "execution_count": 6,
   "id": "7af6ad8f",
   "metadata": {},
   "outputs": [
    {
     "name": "stdout",
     "output_type": "stream",
     "text": [
      "[('QT_QTC', 'RD_SYM'), ('RD_SYM', 'N_NN'), ('N_NN', 'V_VM_VNF'), ('V_VM_VNF', 'N_NST'), ('N_NST', 'N_NN'), ('N_NN', 'PR_PRP'), ('PR_PRP', 'V_VM_VINF'), ('V_VM_VINF', 'N_NN'), ('N_NN', 'N_NN'), ('N_NN', 'V_VM_VNF')]\n"
     ]
    }
   ],
   "source": [
    "bi_grams = [b for l in list_strings for b in zip(str(l).split(\" \")[:-1], str(l).split(\" \")[1:])]\n",
    "\n",
    "# we are finding out unigrams here\n",
    "# first, we are taking each term from the list_strings as variable named 'l'\n",
    "# second, we convert l as string and split it with spaces. now, we get all tags.\n",
    "# take first tag as variable 'b' and append it to the list 'bigrams' sequentially one by one until the last tag is exhausted.\n",
    "# next, we take the same string format of 'l', split it with spaces and apart from the already existing word, take the next word.\n",
    "# we take both the words and zip it into a tuple and thus we get list of bigrams\n",
    "\n",
    "print(bi_grams[:10])"
   ]
  },
  {
   "cell_type": "code",
   "execution_count": 7,
   "id": "5b79f224",
   "metadata": {},
   "outputs": [
    {
     "name": "stdout",
     "output_type": "stream",
     "text": [
      "107133\n",
      "Number of Bigrams present in the whole corpus -  107133\n"
     ]
    }
   ],
   "source": [
    "print(len(bi_grams))\n",
    "\n",
    "# we get the number of bigrams present in the corpus\n",
    "\n",
    "print('Number of Bigrams present in the whole corpus - ', len(bi_grams))"
   ]
  },
  {
   "cell_type": "code",
   "execution_count": 8,
   "id": "b86038d9",
   "metadata": {},
   "outputs": [],
   "source": [
    "from collections import Counter\n",
    "\n",
    "count = dict(Counter(bi_grams))\n",
    "#print(count)\n",
    "\n",
    "# we get the frequency of occurrences of each tags/unigrams"
   ]
  },
  {
   "cell_type": "code",
   "execution_count": 9,
   "id": "0ff6a2f6",
   "metadata": {},
   "outputs": [
    {
     "name": "stdout",
     "output_type": "stream",
     "text": [
      "625\n",
      "Number of unique bigrams in our corpus 625\n"
     ]
    }
   ],
   "source": [
    "print(len(count))\n",
    "\n",
    "# This gives us how many bigrams we have in our corpus\n",
    "\n",
    "print('Number of unique bigrams in our corpus', len(count))"
   ]
  },
  {
   "cell_type": "code",
   "execution_count": 10,
   "id": "8dacfabe",
   "metadata": {},
   "outputs": [],
   "source": [
    "sorted_count = {k: v for k, v in sorted(count.items(), key=lambda item: item[1], reverse=True)}\n",
    "\n",
    "#print(sorted_count)\n",
    "\n",
    "# we have sorted our tags based in the decresing order of frequency.\n",
    "# we have 'N_NN' tag occurring highest number of times\n"
   ]
  },
  {
   "cell_type": "code",
   "execution_count": 11,
   "id": "27e00486",
   "metadata": {},
   "outputs": [
    {
     "data": {
      "text/html": [
       "<div>\n",
       "<style scoped>\n",
       "    .dataframe tbody tr th:only-of-type {\n",
       "        vertical-align: middle;\n",
       "    }\n",
       "\n",
       "    .dataframe tbody tr th {\n",
       "        vertical-align: top;\n",
       "    }\n",
       "\n",
       "    .dataframe thead th {\n",
       "        text-align: right;\n",
       "    }\n",
       "</style>\n",
       "<table border=\"1\" class=\"dataframe\">\n",
       "  <thead>\n",
       "    <tr style=\"text-align: right;\">\n",
       "      <th></th>\n",
       "      <th>Bi_grams</th>\n",
       "      <th>Frequency</th>\n",
       "    </tr>\n",
       "  </thead>\n",
       "  <tbody>\n",
       "    <tr>\n",
       "      <th>0</th>\n",
       "      <td>(N_NN, N_NN)</td>\n",
       "      <td>17422</td>\n",
       "    </tr>\n",
       "    <tr>\n",
       "      <th>1</th>\n",
       "      <td>(N_NN, RD_PUNC)</td>\n",
       "      <td>7055</td>\n",
       "    </tr>\n",
       "    <tr>\n",
       "      <th>2</th>\n",
       "      <td>(V_VM_VF, RD_PUNC)</td>\n",
       "      <td>6390</td>\n",
       "    </tr>\n",
       "    <tr>\n",
       "      <th>3</th>\n",
       "      <td>(N_NN, V_VM_VNF)</td>\n",
       "      <td>6188</td>\n",
       "    </tr>\n",
       "    <tr>\n",
       "      <th>4</th>\n",
       "      <td>(RD_PUNC, N_NN)</td>\n",
       "      <td>5356</td>\n",
       "    </tr>\n",
       "    <tr>\n",
       "      <th>...</th>\n",
       "      <td>...</td>\n",
       "      <td>...</td>\n",
       "    </tr>\n",
       "    <tr>\n",
       "      <th>620</th>\n",
       "      <td>(NN, RB)</td>\n",
       "      <td>1</td>\n",
       "    </tr>\n",
       "    <tr>\n",
       "      <th>621</th>\n",
       "      <td>(, RB)</td>\n",
       "      <td>1</td>\n",
       "    </tr>\n",
       "    <tr>\n",
       "      <th>622</th>\n",
       "      <td>(RP_INJ, V_VM_VNF)</td>\n",
       "      <td>1</td>\n",
       "    </tr>\n",
       "    <tr>\n",
       "      <th>623</th>\n",
       "      <td>(PR_PRL, N_NNP)</td>\n",
       "      <td>1</td>\n",
       "    </tr>\n",
       "    <tr>\n",
       "      <th>624</th>\n",
       "      <td>(RP_INJ, PR_PRP)</td>\n",
       "      <td>1</td>\n",
       "    </tr>\n",
       "  </tbody>\n",
       "</table>\n",
       "<p>625 rows × 2 columns</p>\n",
       "</div>"
      ],
      "text/plain": [
       "               Bi_grams  Frequency\n",
       "0          (N_NN, N_NN)      17422\n",
       "1       (N_NN, RD_PUNC)       7055\n",
       "2    (V_VM_VF, RD_PUNC)       6390\n",
       "3      (N_NN, V_VM_VNF)       6188\n",
       "4       (RD_PUNC, N_NN)       5356\n",
       "..                  ...        ...\n",
       "620            (NN, RB)          1\n",
       "621              (, RB)          1\n",
       "622  (RP_INJ, V_VM_VNF)          1\n",
       "623     (PR_PRL, N_NNP)          1\n",
       "624    (RP_INJ, PR_PRP)          1\n",
       "\n",
       "[625 rows x 2 columns]"
      ]
     },
     "execution_count": 11,
     "metadata": {},
     "output_type": "execute_result"
    }
   ],
   "source": [
    "f_data = pd.DataFrame([sorted_count])\n",
    "# we are converting our sorted frequencies as a pandas dataframe for easy visualization\n",
    "\n",
    "f_data = f_data.T\n",
    "# we are transposing our data matrix for column view\n",
    "\n",
    "f_data = f_data.reset_index()\n",
    "# we are resetting our index to default values\n",
    "\n",
    "f_data.columns = ['Bi_grams','Frequency']\n",
    "# we are addding column names for easy understanding of the columns in our bigram frequency dataframe\n",
    "\n",
    "f_data[:]\n",
    "# we visualize the whole data"
   ]
  },
  {
   "cell_type": "code",
   "execution_count": 12,
   "id": "a47fa21c",
   "metadata": {},
   "outputs": [],
   "source": [
    "f_data.to_csv(r'C:\\Users\\sures\\Downloads\\Downloads_1\\NLP_Files_Uni,bi_tri_4_5_grams\\Final_Files\\Bigrams\\Bi_gram_freq.csv')\n",
    "\n",
    "# we are saving our new unigram frequency dataset into our drive after converting it into csv file."
   ]
  },
  {
   "cell_type": "code",
   "execution_count": null,
   "id": "8f52bd47",
   "metadata": {},
   "outputs": [],
   "source": []
  }
 ],
 "metadata": {
  "kernelspec": {
   "display_name": "Python 3 (ipykernel)",
   "language": "python",
   "name": "python3"
  },
  "language_info": {
   "codemirror_mode": {
    "name": "ipython",
    "version": 3
   },
   "file_extension": ".py",
   "mimetype": "text/x-python",
   "name": "python",
   "nbconvert_exporter": "python",
   "pygments_lexer": "ipython3",
   "version": "3.9.12"
  }
 },
 "nbformat": 4,
 "nbformat_minor": 5
}
